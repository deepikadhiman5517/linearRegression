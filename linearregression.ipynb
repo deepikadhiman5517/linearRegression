{
  "nbformat": 4,
  "nbformat_minor": 0,
  "metadata": {
    "colab": {
      "provenance": [],
      "authorship_tag": "ABX9TyNOZlP+C3jH6CNEFK7He1Z5",
      "include_colab_link": true
    },
    "kernelspec": {
      "name": "python3",
      "display_name": "Python 3"
    },
    "language_info": {
      "name": "python"
    }
  },
  "cells": [
    {
      "cell_type": "markdown",
      "metadata": {
        "id": "view-in-github",
        "colab_type": "text"
      },
      "source": [
        "<a href=\"https://colab.research.google.com/github/deepikadhiman5517/linearRegression/blob/main/linearregression.ipynb\" target=\"_parent\"><img src=\"https://colab.research.google.com/assets/colab-badge.svg\" alt=\"Open In Colab\"/></a>"
      ]
    },
    {
      "cell_type": "markdown",
      "source": [
        "**1 Write a function to generate an m+1 dimensional data set, of size n, consisting of m continuous independent\n",
        " variables (X) and one dependent variable (Y) defined as <p>\n",
        "yi = xiβ + e <p>**\n",
        "where,<p>\n",
        "• e is a Gaussuan distribution with mean 0 and standard deviation (σ), representing the unexplained\n",
        "variation in Y<p>\n",
        "• β is a random vector of dimensionality m + 1, representing the coefficients of the linear relationship\n",
        "between X and Y, and<p>\n",
        "• ∀i ∈ [1, n], xi0 = 1<p>\n",
        "The function should take the following parameters:<p>\n",
        "• σ: The spread of noise in the output variable<p>\n",
        "• n: The size of the data set<p>\n",
        "• m: The number of indepedent variables<p>\n",
        "Output from the function should be:<p>\n",
        "• X: An n × m numpy array of independent variable values (with a 1 in the first column)<p>\n",
        "• Y : The n × 1 numpy array of output values<p>\n",
        "• β: The random coefficients used to generatre Y from X<p>\n"
      ],
      "metadata": {
        "id": "TN2-MHyPfCq4"
      }
    },
    {
      "cell_type": "code",
      "source": [
        "import numpy as np\n",
        "import pandas as pd\n",
        "import matplotlib.pyplot as plt"
      ],
      "metadata": {
        "id": "CHWtpIfde3YA"
      },
      "execution_count": null,
      "outputs": []
    },
    {
      "cell_type": "code",
      "execution_count": null,
      "metadata": {
        "id": "vdJOJNGJJiOy"
      },
      "outputs": [],
      "source": [
        "def fun1(n,m,s):#genrate values\n",
        "    X = np.random.rand(n, m+1)\n",
        "    X[:, 0] = 1\n",
        "    e = np.random.normal(0, s, (n,1)) # where 0 is loc,s is for scaling, (n,1) is the size\n",
        "    b = np.random.rand(m+1, 1)\n",
        "    y = np.matmul(X, b) + e\n",
        "    return X,y,b\n"
      ]
    },
    {
      "cell_type": "markdown",
      "source": [
        "**2 Write a function that learns the parameters of a linear regression line given inputs**<p>\n",
        "• X: An n × m numpy array of independent variable values<p>\n",
        "• Y : The n × 1 numpy array of output values<p>\n",
        "• k: the number of iteractions (epochs)<p>\n",
        "• τ : the threshold on change in Cost function value from the previous to current iteration<p>\n",
        "The function should implement the Gradient Descent algorithm as discussed in class that initialises β with\n",
        "random values and then updates these values in each iteraction by moving in the the direction defined by\n",
        "the partial derivative of the cost function with respect to each of the coefficients. The function should use\n",
        "only one loop that ends after a number of iterations (k) or a threshold on the change in cost function value\n",
        "(τ ).\n",
        "The output should be an m + 1 dimensional vector of coefficients and the final cost function value.\n"
      ],
      "metadata": {
        "id": "SGhv7ahkgP6w"
      }
    },
    {
      "cell_type": "code",
      "source": [
        "def regression(x, y, epochs, threshold):\n",
        "    l = 1 #learning rate\n",
        "    n = x.shape[0]\n",
        "    m = x.shape[1]\n",
        "    weight = np.random.rand(m,1)*l\n",
        "    pre_cost = float('inf') #initial cost to infinity\n",
        "    for i in range(epochs):\n",
        "        pred_y = np.matmul(x, weight)\n",
        "        cost = (1/(n)) * np.sum((y - pred_y)**2)\n",
        "        if i == 0:\n",
        "          print(\"Cost at epoch - 1: \", cost)\n",
        "        if abs(pre_cost - cost) <= threshold:\n",
        "            print(\"threshold reached at epoch: \", i)\n",
        "            break\n",
        "        pre_cost = cost  #updating the cost value\n",
        "\n",
        "        weight = weight - l *(-2/n) * np.matmul(X.T, (y - pred_y)) # updating weights\n",
        "    return pre_cost, weight\n"
      ],
      "metadata": {
        "id": "rfi8CubvgcQr"
      },
      "execution_count": null,
      "outputs": []
    },
    {
      "cell_type": "code",
      "source": [
        "X, y, b= fun1(600, 5, 1)\n",
        "\n",
        "\n",
        "final_cost,weight = regression(X, y, 200, 0.0002)\n",
        "print(\"Final cost: \", final_cost)"
      ],
      "metadata": {
        "colab": {
          "base_uri": "https://localhost:8080/"
        },
        "id": "mPnJzElviBTX",
        "outputId": "f72a4552-8c12-429d-8770-c5dd6069b833"
      },
      "execution_count": null,
      "outputs": [
        {
          "output_type": "stream",
          "name": "stdout",
          "text": [
            "Cost at epoch - 1:  2.48099831004479\n",
            "Final cost:  5.155869744921164e+222\n"
          ]
        }
      ]
    },
    {
      "cell_type": "markdown",
      "source": [
        "3 Create a report investigating how differen values of n and σ impact the ability for your linear regression\n",
        "function to learn the coefficients, β, used to generate the output vector Y .\n",
        "\n",
        "<table border=\"4px\">\n",
        "<tr>\n",
        "<th>n(size)</th>\n",
        "<th>s(scale)</th>\n",
        "<th>cost</th>\n",
        "\n",
        "</tr>\n",
        "<tr>\n",
        "<td>500</td>\n",
        "<td>0.2</td>\n",
        "<td>6.13</td>\n",
        "</tr>\n",
        "<tr>\n",
        "<td>500</td>\n",
        "<td>0.5</td>\n",
        "<td>9.7</td>\n",
        "</tr>\n",
        "<tr>\n",
        "<td>500</td>\n",
        "<td>1</td>\n",
        "<td>2.8</td>\n",
        "</tr>\n",
        "<tr>\n",
        "<td>500</td>\n",
        "<td>2</td>\n",
        "<td>1.7</td>\n",
        "</tr>\n",
        "\n",
        "<tr>\n",
        "<td>400</td>\n",
        "<td>0.1</td>\n",
        "<td>2.5</td>\n",
        "</tr>\n",
        "\n",
        "<tr>\n",
        "<td>600</td>\n",
        "<td>0.1</td>\n",
        "<td>2.5</td>\n",
        "</tr>\n",
        "\n",
        "<tr>\n",
        "<td>600</td>\n",
        "<td>1</td>\n",
        "<td>5.15</td>\n",
        "</tr>\n",
        "</table>"
      ],
      "metadata": {
        "id": "r0xRfau3fGR9"
      }
    }
  ]
}